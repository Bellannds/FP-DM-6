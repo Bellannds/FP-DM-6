{
  "nbformat": 4,
  "nbformat_minor": 0,
  "metadata": {
    "colab": {
      "provenance": []
    },
    "kernelspec": {
      "name": "python3",
      "display_name": "Python 3"
    },
    "language_info": {
      "name": "python"
    }
  },
  "cells": [
    {
      "cell_type": "code",
      "execution_count": 1,
      "metadata": {
        "colab": {
          "base_uri": "https://localhost:8080/"
        },
        "id": "0-Zo2YvV-FCh",
        "outputId": "eca03fff-6464-46e1-e3f7-5b80cf8a7c16"
      },
      "outputs": [
        {
          "output_type": "stream",
          "name": "stdout",
          "text": [
            "Accuracy: 89.41%\n",
            "Classification Report:\n",
            "               precision    recall  f1-score   support\n",
            "\n",
            "    Negative       0.86      0.94      0.90      1074\n",
            "    Positive       0.94      0.84      0.89      1069\n",
            "\n",
            "    accuracy                           0.89      2143\n",
            "   macro avg       0.90      0.89      0.89      2143\n",
            "weighted avg       0.90      0.89      0.89      2143\n",
            "\n",
            "Model dan vectorizer berhasil disimpan!\n"
          ]
        }
      ],
      "source": [
        "import pandas as pd\n",
        "from sklearn.model_selection import train_test_split\n",
        "from sklearn.feature_extraction.text import TfidfVectorizer\n",
        "from sklearn.naive_bayes import MultinomialNB\n",
        "from sklearn.metrics import classification_report, accuracy_score\n",
        "import pickle\n",
        "\n",
        "# 1. Load Data\n",
        "data = pd.read_csv('sentiment_review_fix.csv')\n",
        "\n",
        "# 2. Preprocessing Pipeline\n",
        "# Case folding (sudah dilakukan pada data, jadi dilewatkan di sini)\n",
        "# Vectorization menggunakan TF-IDF\n",
        "vectorizer = TfidfVectorizer()\n",
        "X = vectorizer.fit_transform(data['content'])\n",
        "\n",
        "y = data['sentiment_encoded']  # Target: 0 (Negative), 1 (Positive)\n",
        "\n",
        "# 3. Split Data untuk Training dan Testing\n",
        "X_train, X_test, y_train, y_test = train_test_split(X, y, test_size=0.2, random_state=42, stratify=y)\n",
        "\n",
        "# 4. Train Model (Naive Bayes)\n",
        "model = MultinomialNB()\n",
        "model.fit(X_train, y_train)\n",
        "\n",
        "# 5. Evaluasi Model\n",
        "predictions = model.predict(X_test)\n",
        "accuracy = accuracy_score(y_test, predictions)\n",
        "report = classification_report(y_test, predictions, target_names=['Negative', 'Positive'])\n",
        "\n",
        "print(f\"Accuracy: {accuracy * 100:.2f}%\")\n",
        "print(\"Classification Report:\\n\", report)\n",
        "\n",
        "# 6. Save Model dan Vectorizer\n",
        "with open('text_classifier.pkl', 'wb') as model_file:\n",
        "    pickle.dump(model, model_file)\n",
        "\n",
        "with open('tfidf_vectorizer.pkl', 'wb') as vectorizer_file:\n",
        "    pickle.dump(vectorizer, vectorizer_file)\n",
        "\n",
        "print(\"Model dan vectorizer berhasil disimpan!\")\n"
      ]
    },
    {
      "cell_type": "code",
      "source": [
        "!pip install streamlit -q"
      ],
      "metadata": {
        "id": "d9qU79Ee-u5t"
      },
      "execution_count": 2,
      "outputs": []
    },
    {
      "cell_type": "code",
      "source": [
        "%%writefile app.py\n",
        "import streamlit as st\n",
        "import pickle\n",
        "\n",
        "# Load Model dan Vectorizer\n",
        "with open('text_classifier.pkl', 'rb') as model_file:\n",
        "    model = pickle.load(model_file)\n",
        "\n",
        "with open('tfidf_vectorizer.pkl', 'rb') as vectorizer_file:\n",
        "    vectorizer = pickle.load(vectorizer_file)\n",
        "\n",
        "# Fungsi Prediksi\n",
        "def predict_sentiment(text):\n",
        "    \"\"\"Memprediksi sentimen dari teks input.\"\"\"\n",
        "    transformed_text = vectorizer.transform([text])  # Preprocessing teks\n",
        "    prediction = model.predict(transformed_text)  # Prediksi\n",
        "    sentiment = \"Positive\" if prediction[0] == 1 else \"Negative\"\n",
        "    return sentiment\n",
        "\n",
        "# Aplikasi Streamlit\n",
        "st.title(\"Aplikasi Prediksi Sentimen\")\n",
        "\n",
        "# Input User\n",
        "input_text = st.text_area(\"Masukkan teks ulasan:\", \"Ketik ulasan di sini...\")\n",
        "\n",
        "# Tombol Prediksi\n",
        "if st.button(\"Prediksi\"):\n",
        "    if input_text.strip():\n",
        "        result = predict_sentiment(input_text)\n",
        "        st.success(f\"Hasil Prediksi: {result}\")\n",
        "    else:\n",
        "        st.warning(\"Silakan masukkan teks untuk diprediksi.\")\n"
      ],
      "metadata": {
        "colab": {
          "base_uri": "https://localhost:8080/"
        },
        "id": "y5ln4H9R-OEM",
        "outputId": "ad7213eb-8bfb-4f96-c785-fb61c29526f9"
      },
      "execution_count": 3,
      "outputs": [
        {
          "output_type": "stream",
          "name": "stdout",
          "text": [
            "Writing app.py\n"
          ]
        }
      ]
    },
    {
      "cell_type": "code",
      "source": [
        "!pip install pyngrok"
      ],
      "metadata": {
        "colab": {
          "base_uri": "https://localhost:8080/"
        },
        "id": "akH3sjH-_GkE",
        "outputId": "839bb028-5708-437b-8995-5abefed76187"
      },
      "execution_count": null,
      "outputs": [
        {
          "output_type": "stream",
          "name": "stdout",
          "text": [
            "Collecting pyngrok\n",
            "  Downloading pyngrok-7.2.2-py3-none-any.whl.metadata (8.4 kB)\n",
            "Requirement already satisfied: PyYAML>=5.1 in /usr/local/lib/python3.10/dist-packages (from pyngrok) (6.0.2)\n",
            "Downloading pyngrok-7.2.2-py3-none-any.whl (22 kB)\n",
            "Installing collected packages: pyngrok\n",
            "Successfully installed pyngrok-7.2.2\n"
          ]
        }
      ]
    },
    {
      "cell_type": "code",
      "source": [
        "!wget -q -O - ipv4.icanhazip.com"
      ],
      "metadata": {
        "colab": {
          "base_uri": "https://localhost:8080/"
        },
        "id": "UDv8igaw_rrC",
        "outputId": "da1e451d-ccbe-4a6d-c5ad-736f7dc9bf44"
      },
      "execution_count": 4,
      "outputs": [
        {
          "output_type": "stream",
          "name": "stdout",
          "text": [
            "35.222.237.243\n"
          ]
        }
      ]
    },
    {
      "cell_type": "code",
      "source": [
        "!streamlit run app.py & npx localtunnel --port 8501"
      ],
      "metadata": {
        "colab": {
          "base_uri": "https://localhost:8080/"
        },
        "id": "UJWR91sd_ty7",
        "outputId": "47b9624a-aa67-48c3-ab1a-a231baa70707"
      },
      "execution_count": null,
      "outputs": [
        {
          "output_type": "stream",
          "name": "stdout",
          "text": [
            "\n",
            "Collecting usage statistics. To deactivate, set browser.gatherUsageStats to false.\n",
            "\u001b[0m\n",
            "\u001b[1G\u001b[0K⠙\u001b[1G\u001b[0K⠹\u001b[1G\u001b[0K⠸\u001b[1G\u001b[0K⠼\u001b[1G\u001b[0K⠴\u001b[1G\u001b[0K⠦\u001b[1G\u001b[0K⠧\u001b[1G\u001b[0K⠇\u001b[1G\u001b[0K⠏\u001b[1G\u001b[0K⠋\u001b[0m\n",
            "\u001b[34m\u001b[1m  You can now view your Streamlit app in your browser.\u001b[0m\n",
            "\u001b[0m\n",
            "\u001b[34m  Local URL: \u001b[0m\u001b[1mhttp://localhost:8501\u001b[0m\n",
            "\u001b[34m  Network URL: \u001b[0m\u001b[1mhttp://172.28.0.12:8501\u001b[0m\n",
            "\u001b[34m  External URL: \u001b[0m\u001b[1mhttp://35.222.237.243:8501\u001b[0m\n",
            "\u001b[0m\n",
            "\u001b[1G\u001b[0K⠙\u001b[1G\u001b[0K⠹\u001b[1G\u001b[0K⠸\u001b[1G\u001b[0K⠼\u001b[1G\u001b[0K⠴\u001b[1G\u001b[0Kyour url is: https://little-cups-help.loca.lt\n"
          ]
        }
      ]
    }
  ]
}